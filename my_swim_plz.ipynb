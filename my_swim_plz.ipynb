{
 "cells": [
  {
   "cell_type": "code",
   "execution_count": null,
   "metadata": {},
   "outputs": [
    {
     "name": "stdout",
     "output_type": "stream",
     "text": [
      "test\n",
      "신청중.... 1 차 시도\n",
      "test\n",
      "신청중.... 2 차 시도\n",
      "test\n",
      "신청중.... 3 차 시도\n",
      "test\n",
      "신청중.... 4 차 시도\n",
      "test\n",
      "신청중.... 5 차 시도\n",
      "test\n",
      "신청중.... 6 차 시도\n",
      "test\n",
      "신청중.... 7 차 시도\n",
      "test\n",
      "신청중.... 8 차 시도\n",
      "test\n",
      "신청중.... 9 차 시도\n",
      "test\n",
      "신청중.... 10 차 시도\n",
      "test\n",
      "신청중.... 11 차 시도\n",
      "test\n",
      "신청중.... 12 차 시도\n",
      "test\n",
      "신청중.... 13 차 시도\n",
      "test\n",
      "신청중.... 14 차 시도\n"
     ]
    }
   ],
   "source": [
    "#완성된 코드\n",
    "#import\n",
    "from selenium import webdriver\n",
    "from selenium.webdriver.common.keys import Keys\n",
    "from selenium.webdriver.common.by import By\n",
    "from selenium.webdriver.support.ui import WebDriverWait\n",
    "from selenium.webdriver.support import expected_conditions as EC\n",
    "#사이트로딩\n",
    "url = 'https://sports.knu.ac.kr'\n",
    "driver = webdriver.Chrome('./chromedriver.exe')\n",
    "# 사이즈조절\n",
    "driver.set_window_size(1400, 1000)  # (가로, 세로)\n",
    "wait = WebDriverWait(driver, 10)\n",
    "driver.get(url) # 페이지 이동\n",
    "driver.switch_to.frame(driver.find_element(By.XPATH, '/html/frameset/frame'))\n",
    "#로그인\n",
    "userId =  driver.find_element(By.XPATH,'/html/body/div/div[2]/div/div[2]/form/dl/dd[1]/input')\n",
    "userId.send_keys('plusmate1') # 로그인 할 계정 id\n",
    "userPwd =   driver.find_element(By.XPATH, '/html/body/div/div[2]/div/div[2]/form/dl/dd[2]/input')\n",
    "userPwd.send_keys('tkwkdhkrhfo1!') # 로그인 할 계정의 패스워드\n",
    "userPwd.send_keys(Keys.ENTER)\n",
    "\n",
    "#무한반복, 5초마다 반복하거나/true로 반복하거나.\n",
    "i=0\n",
    "while(1) : \n",
    "    #강좌신청페이지로\n",
    "    driver.switch_to.frame(driver.find_element(By.XPATH, '/html/frameset/frame'))\n",
    "    res_elem = driver.find_element(By.XPATH, \"/html/body/div/div[2]/div/ul/li[1]\" )\n",
    "    res_elem.click()\n",
    "    #신청동의하기\n",
    "    radio = driver.find_element(By.XPATH, '/html/body/div/div[3]/ul[2]/form/table[1]/tbody/tr[2]/td[2]/input[2]')\n",
    "    radio.click()\n",
    "    radio2 = driver.find_element(By.XPATH, '//*[@id=\"N2\"]').click()\n",
    "    checkbox = driver.find_element(By.XPATH, '//*[@id=\"agree\"]').click()\n",
    "    radio2 = driver.find_element(By.XPATH, '/html/body/div/div[3]/ul[2]/form/table[4]/tbody/tr/td/input[1]').click()\n",
    "    res_elem = driver.find_element(By.XPATH, \"/html/body/div/div[3]/ul[2]/li/p/input[1]\" )\n",
    "    res_elem.click()\n",
    "    #팝업창끄기\n",
    "    try : \n",
    "        driver.find_element(By.ID, \"alertBox\").click()\n",
    "    except Exception as error:\n",
    "        print('test')\n",
    "    #강좌신청\n",
    "    #종목\n",
    "    \n",
    "    date_elem = driver.find_element(By.XPATH, '/html/body/div/div[3]/ul[2]/form/table/tbody/tr[1]')\n",
    "    #종목명\n",
    "    date_elem = driver.find_element(By.XPATH, '//*[@id=\"type_sqno\"]/option[5]').click()\n",
    "    #강좌명\n",
    "    date_elem = driver.find_element(By.XPATH,'//*[@id=\"type_detl_sqno\"]/option[28]')\n",
    "    date_elem.click()\n",
    "    #아마 초급반은 26,27,28인데, 주5회가 28일것.\n",
    "    try : \n",
    "        #강좌세부, 신기한게 option은 [1]부터 선택가능하다. \n",
    "        #마감된다고 순서가 바뀌지는 않음. 그러나 초급은 주5회가 1개 뿐...\n",
    "        date_elem = driver.find_element(By.XPATH,'//*[@id=\"lect_sqno\"]/option[2]')\n",
    "        date_elem.click()\n",
    "        #신청개월\n",
    "        #신규라 더이상 코드를 짤수가없다..ㅠㅠㅠ\n",
    "        date_elem = driver.find_element(By.XPATH,'//*[@id=\"lect_amt_sqno\"]/option[2]')\n",
    "        #date_elem.click()\n",
    "        #신청하기\n",
    "        try : \n",
    "            driver.find_element(By.ID, \"alertBox\").click()\n",
    "            date_elem = wait.until(EC.element_to_be_clickable((By.XPATH, '/html/body/div/div[3]/ul[2]/li[2]/p/input[1]')))\n",
    "            date_elem.click()\n",
    "        except Exception as error: \n",
    "            pass\n",
    "    except Exception as error:\n",
    "        i = i+1\n",
    "        print(\"신청중....\",i,\"차 시도\")\n",
    "    driver.refresh()\n"
   ]
  },
  {
   "cell_type": "code",
   "execution_count": 4,
   "metadata": {},
   "outputs": [
    {
     "name": "stdout",
     "output_type": "stream",
     "text": [
      "Requirement already satisfied: selenium in c:\\users\\oyoungsun\\anaconda3\\lib\\site-packages (3.141.0)\n",
      "Requirement already satisfied: urllib3 in c:\\users\\oyoungsun\\anaconda3\\lib\\site-packages (from selenium) (1.25.9)\n",
      "Note: you may need to restart the kernel to use updated packages.\n"
     ]
    }
   ],
   "source": [
    "pip install selenium\n",
    "\n",
    "#https://gem1n1.tistory.com/38"
   ]
  },
  {
   "cell_type": "code",
   "execution_count": 3,
   "metadata": {},
   "outputs": [
    {
     "name": "stdout",
     "output_type": "stream",
     "text": [
      "Requirement already satisfied: pip in c:\\users\\oyoungsun\\anaconda3\\lib\\site-packages (21.2.2)\n",
      "Collecting pip\n",
      "  Downloading pip-21.2.4-py3-none-any.whl (1.6 MB)\n",
      "Installing collected packages: pip\n",
      "  Attempting uninstall: pip\n",
      "    Found existing installation: pip 21.2.2\n",
      "    Uninstalling pip-21.2.2:\n",
      "      Successfully uninstalled pip-21.2.2\n",
      "Successfully installed pip-21.2.4\n",
      "Note: you may need to restart the kernel to use updated packages.\n"
     ]
    }
   ],
   "source": [
    " pip install --upgrade pip"
   ]
  },
  {
   "cell_type": "code",
   "execution_count": 93,
   "metadata": {},
   "outputs": [],
   "source": [
    "# main.py\n",
    "\n",
    "from selenium import webdriver\n",
    "from selenium.webdriver.common.keys import Keys\n",
    "from selenium.webdriver.common.by import By\n",
    "from selenium.webdriver.support.ui import WebDriverWait\n",
    "from selenium.webdriver.support import expected_conditions as EC"
   ]
  },
  {
   "cell_type": "code",
   "execution_count": 94,
   "metadata": {},
   "outputs": [],
   "source": [
    "# macro_config.py\n",
    "url = 'https://sports.knu.ac.kr'\n"
   ]
  },
  {
   "cell_type": "code",
   "execution_count": 95,
   "metadata": {},
   "outputs": [],
   "source": [
    "# main.py\n",
    "\n",
    "driver = webdriver.Chrome('./chromedriver.exe')\n",
    "# 사이즈조절\n",
    "driver.set_window_size(1400, 1000)  # (가로, 세로)\n",
    "wait = WebDriverWait(driver, 10)\n",
    "driver.get(url) # 페이지 이동"
   ]
  },
  {
   "cell_type": "code",
   "execution_count": 96,
   "metadata": {},
   "outputs": [],
   "source": [
    "#for i in range(2) : \n",
    " #   driver.switch_to.window(driver.window_handles[1]) \n",
    " #  driver.close()\n",
    "driver.switch_to.window(driver.window_handles[0])"
   ]
  },
  {
   "cell_type": "code",
   "execution_count": 97,
   "metadata": {},
   "outputs": [
    {
     "data": {
      "text/plain": [
       "['CDwindow-9C77247F3DA45DDC81B0FA469EBE4A13',\n",
       " 'CDwindow-F3A609E7B475947C892095E65FDFEADA']"
      ]
     },
     "execution_count": 97,
     "metadata": {},
     "output_type": "execute_result"
    }
   ],
   "source": [
    "driver.window_handles\n",
    "#그럼 첫 팝업창 다 사라짐. \n",
    "#-> 오늘 하루 이창을 열지않겠습니다로 바꾸던지, 삭제하지 말던지 하자."
   ]
  },
  {
   "cell_type": "code",
   "execution_count": 98,
   "metadata": {},
   "outputs": [],
   "source": [
    "driver.switch_to.frame(driver.find_element(By.XPATH, '/html/frameset/frame'))"
   ]
  },
  {
   "cell_type": "code",
   "execution_count": 99,
   "metadata": {},
   "outputs": [],
   "source": [
    "userId =  driver.find_element(By.XPATH,'/html/body/div/div[2]/div/div[2]/form/dl/dd[1]/input')\n",
    "userId.send_keys('plusmate1') # 로그인 할 계정 id\n",
    "userPwd =   driver.find_element(By.XPATH, '/html/body/div/div[2]/div/div[2]/form/dl/dd[2]/input')\n",
    "userPwd.send_keys('tkwkdhkrhfo1!') # 로그인 할 계정의 패스워드\n",
    "userPwd.send_keys(Keys.ENTER)\n",
    "#로그인 완료\n"
   ]
  },
  {
   "cell_type": "code",
   "execution_count": 100,
   "metadata": {},
   "outputs": [],
   "source": [
    "driver.switch_to.frame(driver.find_element(By.XPATH, '/html/frameset/frame'))\n",
    "res_elem = driver.find_element(By.XPATH, \"/html/body/div/div[2]/div/ul/li[1]\" )\n",
    "res_elem.click()\n",
    "#강좌 신청 클릭"
   ]
  },
  {
   "cell_type": "code",
   "execution_count": 101,
   "metadata": {},
   "outputs": [],
   "source": [
    "#driver.switch_to.window(driver.window_handles[0])\n",
    "#driver.get_window_position(driver.window_handles[0])"
   ]
  },
  {
   "cell_type": "code",
   "execution_count": 102,
   "metadata": {},
   "outputs": [
    {
     "data": {
      "text/plain": [
       "['CDwindow-9C77247F3DA45DDC81B0FA469EBE4A13',\n",
       " 'CDwindow-F3A609E7B475947C892095E65FDFEADA',\n",
       " 'CDwindow-4C9907BF6D58216F5743780EC6D9623F']"
      ]
     },
     "execution_count": 102,
     "metadata": {},
     "output_type": "execute_result"
    }
   ],
   "source": [
    "driver.window_handles"
   ]
  },
  {
   "cell_type": "code",
   "execution_count": 103,
   "metadata": {},
   "outputs": [],
   "source": [
    "radio = driver.find_element(By.XPATH, '/html/body/div/div[3]/ul[2]/form/table[1]/tbody/tr[2]/td[2]/input[2]')\n",
    "radio.click()\n",
    "radio2 = driver.find_element(By.XPATH, '//*[@id=\"N2\"]').click()"
   ]
  },
  {
   "cell_type": "code",
   "execution_count": 104,
   "metadata": {},
   "outputs": [],
   "source": [
    "checkbox = driver.find_element(By.XPATH, '//*[@id=\"agree\"]').click()\n",
    "radio2 = driver.find_element(By.XPATH, '/html/body/div/div[3]/ul[2]/form/table[4]/tbody/tr/td/input[1]').click()\n"
   ]
  },
  {
   "cell_type": "code",
   "execution_count": 105,
   "metadata": {},
   "outputs": [],
   "source": [
    "#신청하기\n",
    "res_elem = driver.find_element(By.XPATH, \"/html/body/div/div[3]/ul[2]/li/p/input[1]\" )\n",
    "res_elem.click()\n",
    "#라디오박스까지 완료"
   ]
  },
  {
   "cell_type": "code",
   "execution_count": 106,
   "metadata": {},
   "outputs": [
    {
     "data": {
      "text/plain": [
       "['CDwindow-9C77247F3DA45DDC81B0FA469EBE4A13',\n",
       " 'CDwindow-F3A609E7B475947C892095E65FDFEADA',\n",
       " 'CDwindow-4C9907BF6D58216F5743780EC6D9623F']"
      ]
     },
     "execution_count": 106,
     "metadata": {},
     "output_type": "execute_result"
    }
   ],
   "source": [
    "driver.window_handles"
   ]
  },
  {
   "cell_type": "code",
   "execution_count": 124,
   "metadata": {},
   "outputs": [
    {
     "ename": "NoSuchElementException",
     "evalue": "Message: no such element: Unable to locate element: {\"method\":\"css selector\",\"selector\":\"[id=\"alertBox\"]\"}\n  (Session info: chrome=92.0.4515.131)\n",
     "output_type": "error",
     "traceback": [
      "\u001b[1;31m---------------------------------------------------------------------------\u001b[0m",
      "\u001b[1;31mNoSuchElementException\u001b[0m                    Traceback (most recent call last)",
      "\u001b[1;32m<ipython-input-124-59a4f1fb9bc7>\u001b[0m in \u001b[0;36m<module>\u001b[1;34m\u001b[0m\n\u001b[0;32m      1\u001b[0m \u001b[1;31m#팝업창 확인누르기\u001b[0m\u001b[1;33m\u001b[0m\u001b[1;33m\u001b[0m\u001b[1;33m\u001b[0m\u001b[0m\n\u001b[1;32m----> 2\u001b[1;33m \u001b[0mdriver\u001b[0m\u001b[1;33m.\u001b[0m\u001b[0mfind_element\u001b[0m\u001b[1;33m(\u001b[0m\u001b[0mBy\u001b[0m\u001b[1;33m.\u001b[0m\u001b[0mID\u001b[0m\u001b[1;33m,\u001b[0m \u001b[1;34m\"alertBox\"\u001b[0m\u001b[1;33m)\u001b[0m\u001b[1;33m.\u001b[0m\u001b[0mclick\u001b[0m\u001b[1;33m(\u001b[0m\u001b[1;33m)\u001b[0m\u001b[1;33m;\u001b[0m\u001b[1;33m\u001b[0m\u001b[1;33m\u001b[0m\u001b[0m\n\u001b[0m",
      "\u001b[1;32m~\\anaconda3\\lib\\site-packages\\selenium\\webdriver\\remote\\webdriver.py\u001b[0m in \u001b[0;36mfind_element\u001b[1;34m(self, by, value)\u001b[0m\n\u001b[0;32m    974\u001b[0m                 \u001b[0mby\u001b[0m \u001b[1;33m=\u001b[0m \u001b[0mBy\u001b[0m\u001b[1;33m.\u001b[0m\u001b[0mCSS_SELECTOR\u001b[0m\u001b[1;33m\u001b[0m\u001b[1;33m\u001b[0m\u001b[0m\n\u001b[0;32m    975\u001b[0m                 \u001b[0mvalue\u001b[0m \u001b[1;33m=\u001b[0m \u001b[1;34m'[name=\"%s\"]'\u001b[0m \u001b[1;33m%\u001b[0m \u001b[0mvalue\u001b[0m\u001b[1;33m\u001b[0m\u001b[1;33m\u001b[0m\u001b[0m\n\u001b[1;32m--> 976\u001b[1;33m         return self.execute(Command.FIND_ELEMENT, {\n\u001b[0m\u001b[0;32m    977\u001b[0m             \u001b[1;34m'using'\u001b[0m\u001b[1;33m:\u001b[0m \u001b[0mby\u001b[0m\u001b[1;33m,\u001b[0m\u001b[1;33m\u001b[0m\u001b[1;33m\u001b[0m\u001b[0m\n\u001b[0;32m    978\u001b[0m             'value': value})['value']\n",
      "\u001b[1;32m~\\anaconda3\\lib\\site-packages\\selenium\\webdriver\\remote\\webdriver.py\u001b[0m in \u001b[0;36mexecute\u001b[1;34m(self, driver_command, params)\u001b[0m\n\u001b[0;32m    319\u001b[0m         \u001b[0mresponse\u001b[0m \u001b[1;33m=\u001b[0m \u001b[0mself\u001b[0m\u001b[1;33m.\u001b[0m\u001b[0mcommand_executor\u001b[0m\u001b[1;33m.\u001b[0m\u001b[0mexecute\u001b[0m\u001b[1;33m(\u001b[0m\u001b[0mdriver_command\u001b[0m\u001b[1;33m,\u001b[0m \u001b[0mparams\u001b[0m\u001b[1;33m)\u001b[0m\u001b[1;33m\u001b[0m\u001b[1;33m\u001b[0m\u001b[0m\n\u001b[0;32m    320\u001b[0m         \u001b[1;32mif\u001b[0m \u001b[0mresponse\u001b[0m\u001b[1;33m:\u001b[0m\u001b[1;33m\u001b[0m\u001b[1;33m\u001b[0m\u001b[0m\n\u001b[1;32m--> 321\u001b[1;33m             \u001b[0mself\u001b[0m\u001b[1;33m.\u001b[0m\u001b[0merror_handler\u001b[0m\u001b[1;33m.\u001b[0m\u001b[0mcheck_response\u001b[0m\u001b[1;33m(\u001b[0m\u001b[0mresponse\u001b[0m\u001b[1;33m)\u001b[0m\u001b[1;33m\u001b[0m\u001b[1;33m\u001b[0m\u001b[0m\n\u001b[0m\u001b[0;32m    322\u001b[0m             response['value'] = self._unwrap_value(\n\u001b[0;32m    323\u001b[0m                 response.get('value', None))\n",
      "\u001b[1;32m~\\anaconda3\\lib\\site-packages\\selenium\\webdriver\\remote\\errorhandler.py\u001b[0m in \u001b[0;36mcheck_response\u001b[1;34m(self, response)\u001b[0m\n\u001b[0;32m    240\u001b[0m                 \u001b[0malert_text\u001b[0m \u001b[1;33m=\u001b[0m \u001b[0mvalue\u001b[0m\u001b[1;33m[\u001b[0m\u001b[1;34m'alert'\u001b[0m\u001b[1;33m]\u001b[0m\u001b[1;33m.\u001b[0m\u001b[0mget\u001b[0m\u001b[1;33m(\u001b[0m\u001b[1;34m'text'\u001b[0m\u001b[1;33m)\u001b[0m\u001b[1;33m\u001b[0m\u001b[1;33m\u001b[0m\u001b[0m\n\u001b[0;32m    241\u001b[0m             \u001b[1;32mraise\u001b[0m \u001b[0mexception_class\u001b[0m\u001b[1;33m(\u001b[0m\u001b[0mmessage\u001b[0m\u001b[1;33m,\u001b[0m \u001b[0mscreen\u001b[0m\u001b[1;33m,\u001b[0m \u001b[0mstacktrace\u001b[0m\u001b[1;33m,\u001b[0m \u001b[0malert_text\u001b[0m\u001b[1;33m)\u001b[0m\u001b[1;33m\u001b[0m\u001b[1;33m\u001b[0m\u001b[0m\n\u001b[1;32m--> 242\u001b[1;33m         \u001b[1;32mraise\u001b[0m \u001b[0mexception_class\u001b[0m\u001b[1;33m(\u001b[0m\u001b[0mmessage\u001b[0m\u001b[1;33m,\u001b[0m \u001b[0mscreen\u001b[0m\u001b[1;33m,\u001b[0m \u001b[0mstacktrace\u001b[0m\u001b[1;33m)\u001b[0m\u001b[1;33m\u001b[0m\u001b[1;33m\u001b[0m\u001b[0m\n\u001b[0m\u001b[0;32m    243\u001b[0m \u001b[1;33m\u001b[0m\u001b[0m\n\u001b[0;32m    244\u001b[0m     \u001b[1;32mdef\u001b[0m \u001b[0m_value_or_default\u001b[0m\u001b[1;33m(\u001b[0m\u001b[0mself\u001b[0m\u001b[1;33m,\u001b[0m \u001b[0mobj\u001b[0m\u001b[1;33m,\u001b[0m \u001b[0mkey\u001b[0m\u001b[1;33m,\u001b[0m \u001b[0mdefault\u001b[0m\u001b[1;33m)\u001b[0m\u001b[1;33m:\u001b[0m\u001b[1;33m\u001b[0m\u001b[1;33m\u001b[0m\u001b[0m\n",
      "\u001b[1;31mNoSuchElementException\u001b[0m: Message: no such element: Unable to locate element: {\"method\":\"css selector\",\"selector\":\"[id=\"alertBox\"]\"}\n  (Session info: chrome=92.0.4515.131)\n"
     ]
    }
   ],
   "source": [
    "#팝업창 확인누르기\n",
    "driver.find_element(By.ID, \"alertBox\").click();  \n"
   ]
  },
  {
   "cell_type": "code",
   "execution_count": 126,
   "metadata": {},
   "outputs": [],
   "source": [
    "#종목 클릭하기\n",
    "#driver.get_window_position(driver.window_handles[0])\n",
    "#driver.find_element(By.ID,'type_sqno')\n",
    "\n",
    "date_elem = driver.find_element(By.XPATH, '/html/body/div/div[3]/ul[2]/form/table/tbody/tr[1]')\n"
   ]
  },
  {
   "cell_type": "code",
   "execution_count": 127,
   "metadata": {},
   "outputs": [],
   "source": [
    "#종목명\n",
    "date_elem = driver.find_element(By.XPATH, '//*[@id=\"type_sqno\"]/option[5]').click()\n",
    "#date_elem = driver.find_element(By.XPATH, '//*[@id=\"type_sqno\"]/option[5]')\n",
    "#date_elem.click()\n",
    "\n",
    "#date_elem = wait.until(EC.element_to_be_clickable((By.XPATH, '/html/body/div/div[3]/ul[2]/form/table/tbody/tr[2]/td/select/option[28]')))\n",
    "#date_elem.click()\n",
    "#강좌세부\n",
    "#date_elem = wait.until(EC.element_to_be_clickable((By.XPATH, '/html/body/div/div[3]/ul[2]/form/table/tbody/tr[3]/td/select/option[4]')))\n",
    "#date_elem.click()\n",
    "\n",
    "#신청개월 선택하기\n",
    "\n"
   ]
  },
  {
   "cell_type": "code",
   "execution_count": 128,
   "metadata": {},
   "outputs": [],
   "source": [
    "#강좌명\n",
    "date_elem = driver.find_element(By.XPATH,'//*[@id=\"type_detl_sqno\"]/option[25]')\n",
    "date_elem.click()\n",
    "#아마 초급반은 26,27,28인데, 주5회가 28일것."
   ]
  },
  {
   "cell_type": "code",
   "execution_count": 129,
   "metadata": {},
   "outputs": [],
   "source": [
    "#강좌세부, 신기한게 option은 [1]부터 선택가능하다. \n",
    "#마감된다고 순서가 바뀌지는 않음. 그러나 초급은 주5회가 1개 뿐...\n",
    "date_elem = driver.find_element(By.XPATH,'//*[@id=\"lect_sqno\"]/option[2]')\n",
    "date_elem.click()\n"
   ]
  },
  {
   "cell_type": "code",
   "execution_count": 115,
   "metadata": {},
   "outputs": [
    {
     "ename": "NoSuchElementException",
     "evalue": "Message: no such element: Unable to locate element: {\"method\":\"xpath\",\"selector\":\"//*[@id=\"lect_amt_sqno\"]/option[2]\"}\n  (Session info: chrome=92.0.4515.131)\n",
     "output_type": "error",
     "traceback": [
      "\u001b[1;31m---------------------------------------------------------------------------\u001b[0m",
      "\u001b[1;31mNoSuchElementException\u001b[0m                    Traceback (most recent call last)",
      "\u001b[1;32m<ipython-input-115-d296ed51812c>\u001b[0m in \u001b[0;36m<module>\u001b[1;34m\u001b[0m\n\u001b[0;32m      1\u001b[0m \u001b[1;31m#신청개월\u001b[0m\u001b[1;33m\u001b[0m\u001b[1;33m\u001b[0m\u001b[1;33m\u001b[0m\u001b[0m\n\u001b[0;32m      2\u001b[0m \u001b[1;31m#신규라 더이상 코드를 짤수가없다..ㅠㅠㅠ\u001b[0m\u001b[1;33m\u001b[0m\u001b[1;33m\u001b[0m\u001b[1;33m\u001b[0m\u001b[0m\n\u001b[1;32m----> 3\u001b[1;33m \u001b[0mdate_elem\u001b[0m \u001b[1;33m=\u001b[0m \u001b[0mdriver\u001b[0m\u001b[1;33m.\u001b[0m\u001b[0mfind_element\u001b[0m\u001b[1;33m(\u001b[0m\u001b[0mBy\u001b[0m\u001b[1;33m.\u001b[0m\u001b[0mXPATH\u001b[0m\u001b[1;33m,\u001b[0m\u001b[1;34m'//*[@id=\"lect_amt_sqno\"]/option[2]'\u001b[0m\u001b[1;33m)\u001b[0m\u001b[1;33m\u001b[0m\u001b[1;33m\u001b[0m\u001b[0m\n\u001b[0m\u001b[0;32m      4\u001b[0m \u001b[0mdate_elem\u001b[0m\u001b[1;33m.\u001b[0m\u001b[0mclick\u001b[0m\u001b[1;33m(\u001b[0m\u001b[1;33m)\u001b[0m\u001b[1;33m\u001b[0m\u001b[1;33m\u001b[0m\u001b[0m\n",
      "\u001b[1;32m~\\anaconda3\\lib\\site-packages\\selenium\\webdriver\\remote\\webdriver.py\u001b[0m in \u001b[0;36mfind_element\u001b[1;34m(self, by, value)\u001b[0m\n\u001b[0;32m    974\u001b[0m                 \u001b[0mby\u001b[0m \u001b[1;33m=\u001b[0m \u001b[0mBy\u001b[0m\u001b[1;33m.\u001b[0m\u001b[0mCSS_SELECTOR\u001b[0m\u001b[1;33m\u001b[0m\u001b[1;33m\u001b[0m\u001b[0m\n\u001b[0;32m    975\u001b[0m                 \u001b[0mvalue\u001b[0m \u001b[1;33m=\u001b[0m \u001b[1;34m'[name=\"%s\"]'\u001b[0m \u001b[1;33m%\u001b[0m \u001b[0mvalue\u001b[0m\u001b[1;33m\u001b[0m\u001b[1;33m\u001b[0m\u001b[0m\n\u001b[1;32m--> 976\u001b[1;33m         return self.execute(Command.FIND_ELEMENT, {\n\u001b[0m\u001b[0;32m    977\u001b[0m             \u001b[1;34m'using'\u001b[0m\u001b[1;33m:\u001b[0m \u001b[0mby\u001b[0m\u001b[1;33m,\u001b[0m\u001b[1;33m\u001b[0m\u001b[1;33m\u001b[0m\u001b[0m\n\u001b[0;32m    978\u001b[0m             'value': value})['value']\n",
      "\u001b[1;32m~\\anaconda3\\lib\\site-packages\\selenium\\webdriver\\remote\\webdriver.py\u001b[0m in \u001b[0;36mexecute\u001b[1;34m(self, driver_command, params)\u001b[0m\n\u001b[0;32m    319\u001b[0m         \u001b[0mresponse\u001b[0m \u001b[1;33m=\u001b[0m \u001b[0mself\u001b[0m\u001b[1;33m.\u001b[0m\u001b[0mcommand_executor\u001b[0m\u001b[1;33m.\u001b[0m\u001b[0mexecute\u001b[0m\u001b[1;33m(\u001b[0m\u001b[0mdriver_command\u001b[0m\u001b[1;33m,\u001b[0m \u001b[0mparams\u001b[0m\u001b[1;33m)\u001b[0m\u001b[1;33m\u001b[0m\u001b[1;33m\u001b[0m\u001b[0m\n\u001b[0;32m    320\u001b[0m         \u001b[1;32mif\u001b[0m \u001b[0mresponse\u001b[0m\u001b[1;33m:\u001b[0m\u001b[1;33m\u001b[0m\u001b[1;33m\u001b[0m\u001b[0m\n\u001b[1;32m--> 321\u001b[1;33m             \u001b[0mself\u001b[0m\u001b[1;33m.\u001b[0m\u001b[0merror_handler\u001b[0m\u001b[1;33m.\u001b[0m\u001b[0mcheck_response\u001b[0m\u001b[1;33m(\u001b[0m\u001b[0mresponse\u001b[0m\u001b[1;33m)\u001b[0m\u001b[1;33m\u001b[0m\u001b[1;33m\u001b[0m\u001b[0m\n\u001b[0m\u001b[0;32m    322\u001b[0m             response['value'] = self._unwrap_value(\n\u001b[0;32m    323\u001b[0m                 response.get('value', None))\n",
      "\u001b[1;32m~\\anaconda3\\lib\\site-packages\\selenium\\webdriver\\remote\\errorhandler.py\u001b[0m in \u001b[0;36mcheck_response\u001b[1;34m(self, response)\u001b[0m\n\u001b[0;32m    240\u001b[0m                 \u001b[0malert_text\u001b[0m \u001b[1;33m=\u001b[0m \u001b[0mvalue\u001b[0m\u001b[1;33m[\u001b[0m\u001b[1;34m'alert'\u001b[0m\u001b[1;33m]\u001b[0m\u001b[1;33m.\u001b[0m\u001b[0mget\u001b[0m\u001b[1;33m(\u001b[0m\u001b[1;34m'text'\u001b[0m\u001b[1;33m)\u001b[0m\u001b[1;33m\u001b[0m\u001b[1;33m\u001b[0m\u001b[0m\n\u001b[0;32m    241\u001b[0m             \u001b[1;32mraise\u001b[0m \u001b[0mexception_class\u001b[0m\u001b[1;33m(\u001b[0m\u001b[0mmessage\u001b[0m\u001b[1;33m,\u001b[0m \u001b[0mscreen\u001b[0m\u001b[1;33m,\u001b[0m \u001b[0mstacktrace\u001b[0m\u001b[1;33m,\u001b[0m \u001b[0malert_text\u001b[0m\u001b[1;33m)\u001b[0m\u001b[1;33m\u001b[0m\u001b[1;33m\u001b[0m\u001b[0m\n\u001b[1;32m--> 242\u001b[1;33m         \u001b[1;32mraise\u001b[0m \u001b[0mexception_class\u001b[0m\u001b[1;33m(\u001b[0m\u001b[0mmessage\u001b[0m\u001b[1;33m,\u001b[0m \u001b[0mscreen\u001b[0m\u001b[1;33m,\u001b[0m \u001b[0mstacktrace\u001b[0m\u001b[1;33m)\u001b[0m\u001b[1;33m\u001b[0m\u001b[1;33m\u001b[0m\u001b[0m\n\u001b[0m\u001b[0;32m    243\u001b[0m \u001b[1;33m\u001b[0m\u001b[0m\n\u001b[0;32m    244\u001b[0m     \u001b[1;32mdef\u001b[0m \u001b[0m_value_or_default\u001b[0m\u001b[1;33m(\u001b[0m\u001b[0mself\u001b[0m\u001b[1;33m,\u001b[0m \u001b[0mobj\u001b[0m\u001b[1;33m,\u001b[0m \u001b[0mkey\u001b[0m\u001b[1;33m,\u001b[0m \u001b[0mdefault\u001b[0m\u001b[1;33m)\u001b[0m\u001b[1;33m:\u001b[0m\u001b[1;33m\u001b[0m\u001b[1;33m\u001b[0m\u001b[0m\n",
      "\u001b[1;31mNoSuchElementException\u001b[0m: Message: no such element: Unable to locate element: {\"method\":\"xpath\",\"selector\":\"//*[@id=\"lect_amt_sqno\"]/option[2]\"}\n  (Session info: chrome=92.0.4515.131)\n"
     ]
    }
   ],
   "source": [
    "#신청개월\n",
    "#신규라 더이상 코드를 짤수가없다..ㅠㅠㅠ\n",
    "date_elem = driver.find_element(By.XPATH,'//*[@id=\"lect_amt_sqno\"]/option[2]')\n",
    "date_elem.click()"
   ]
  },
  {
   "cell_type": "code",
   "execution_count": 119,
   "metadata": {},
   "outputs": [],
   "source": [
    "#신청하기\n",
    "date_elem = wait.until(EC.element_to_be_clickable((By.XPATH, '/html/body/div/div[3]/ul[2]/li[2]/p/input[1]')))\n",
    "date_elem.click()"
   ]
  },
  {
   "cell_type": "code",
   "execution_count": null,
   "metadata": {},
   "outputs": [],
   "source": []
  }
 ],
 "metadata": {
  "kernelspec": {
   "display_name": "Python 3",
   "language": "python",
   "name": "python3"
  },
  "language_info": {
   "codemirror_mode": {
    "name": "ipython",
    "version": 3
   },
   "file_extension": ".py",
   "mimetype": "text/x-python",
   "name": "python",
   "nbconvert_exporter": "python",
   "pygments_lexer": "ipython3",
   "version": "3.8.3"
  }
 },
 "nbformat": 4,
 "nbformat_minor": 4
}
